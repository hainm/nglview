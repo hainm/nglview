{
 "cells": [
  {
   "cell_type": "code",
   "execution_count": 1,
   "metadata": {
    "collapsed": false,
    "scrolled": false
   },
   "outputs": [
    {
     "data": {
      "text/plain": [
       "38"
      ]
     },
     "execution_count": 1,
     "metadata": {},
     "output_type": "execute_result"
    }
   ],
   "source": [
    "import nglview as nv\n",
    "import pytraj as pt\n",
    "import warnings\n",
    "warnings.filterwarnings(\"ignore\")\n",
    "\n",
    "# use pytraj to read coorindates\n",
    "traj = pt.fetch_pdb('1l2y')\n",
    "\n",
    "# save a single pdb file to load to ngview's Structure\n",
    "traj[:1].save('1l2y.pdb')\n",
    "struct = nv.load_file('1l2y.pdb')\n",
    "\n",
    "# create nglview.Trajectory from pytraj's Trajectory\n",
    "ntraj = nv.Trajectory(xyz=traj.xyz, topology=struct)\n",
    "ntraj.n_frames"
   ]
  },
  {
   "cell_type": "markdown",
   "metadata": {},
   "source": [
    "# Single view"
   ]
  },
  {
   "cell_type": "code",
   "execution_count": 2,
   "metadata": {
    "collapsed": false
   },
   "outputs": [],
   "source": [
    "view = nv.TrajectoryViewer(ntraj)\n",
    "view.representabbtions = [ { \"type\": \"line\" } ]\n",
    "# \"near/far\" are percentages, \"dist\" is distance too camera in Angstrom\n",
    "view.clip = { \"near\": 0, \"far\": 100, \"dist\": 10 }\n",
    "view.representations = [ { \"type\": \"line\" } ]\n",
    "view"
   ]
  },
  {
   "cell_type": "markdown",
   "metadata": {},
   "source": [
    "# Multiple view"
   ]
  },
  {
   "cell_type": "code",
   "execution_count": 5,
   "metadata": {
    "collapsed": false
   },
   "outputs": [],
   "source": [
    "# add box\n",
    "from ipywidgets.widgets import Box as Box\n",
    "\n",
    "traj2 = pt.datafiles.load_tz2_ortho()\n",
    "traj2[:1].save('tz2.pdb')\n",
    "struct2 = nv.load_file('tz2.pdb')\n",
    "\n",
    "ntraj2 = nv.Trajectory(xyz=traj2.xyz, topology=struct2)\n",
    "view2 = nv.TrajectoryViewer(ntraj2)\n",
    "# \"near/far\" are percentages, \"dist\" is distance too camera in Angstrom\n",
    "view2.clip = { \"near\": 0, \"far\": 100, \"dist\": 100 }\n",
    "view.representations = [ { \"type\": \"cartoon\" } ]\n",
    "#view2.representations = [ { \"type\": \"line\" }, {'sele': 'protein', 'type': 'cartoon'} ]\n",
    "view2.representations = [{'sele': 'protein', 'type': 'line'} ]\n",
    "view2\n",
    "\n",
    "box = Box(children=(view, view2))\n",
    "box.height = '1000'\n",
    "box"
   ]
  }
 ],
 "metadata": {
  "kernelspec": {
   "display_name": "Python 3",
   "language": "python",
   "name": "python3"
  },
  "language_info": {
   "codemirror_mode": {
    "name": "ipython",
    "version": 3
   },
   "file_extension": ".py",
   "mimetype": "text/x-python",
   "name": "python",
   "nbconvert_exporter": "python",
   "pygments_lexer": "ipython3",
   "version": "3.4.3"
  }
 },
 "nbformat": 4,
 "nbformat_minor": 0
}
