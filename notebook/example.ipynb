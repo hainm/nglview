{
 "cells": [
  {
   "cell_type": "code",
   "execution_count": 5,
   "metadata": {
    "collapsed": false,
    "scrolled": false
   },
   "outputs": [
    {
     "data": {
      "text/plain": [
       "38"
      ]
     },
     "execution_count": 5,
     "metadata": {},
     "output_type": "execute_result"
    }
   ],
   "source": [
    "import nglview as nv\n",
    "import pytraj as pt\n",
    "import warnings\n",
    "warnings.filterwarnings(\"ignore\")\n",
    "\n",
    "traj = pt.fetch_pdb('1l2y').transform(['rms first :3-18@CA', 'center origin :3-18@CA'])\n",
    "traj[:1].save('1l2y.pdb')\n",
    "struct = nv.load_file('1l2y.pdb')\n",
    "\n",
    "ntraj = nv.Trajectory(xyz=traj.xyz, topology=struct)\n",
    "ntraj.n_frames"
   ]
  },
  {
   "cell_type": "code",
   "execution_count": 6,
   "metadata": {
    "collapsed": false
   },
   "outputs": [],
   "source": [
    "view = nv.TrajectoryViewer(ntraj)\n",
    "view.representabbtions = [ { \"type\": \"line\" } ]\n",
    "# \"near/far\" are percentages, \"dist\" is distance too camera in Angstrom\n",
    "view.clip = { \"near\": 0, \"far\": 100, \"dist\": 10 }\n",
    "view.selection = 'CA'\n",
    "view"
   ]
  },
  {
   "cell_type": "code",
   "execution_count": null,
   "metadata": {
    "collapsed": true
   },
   "outputs": [],
   "source": []
  }
 ],
 "metadata": {
  "kernelspec": {
   "display_name": "Python 3",
   "language": "python",
   "name": "python3"
  }
 },
 "nbformat": 4,
 "nbformat_minor": 0
}
