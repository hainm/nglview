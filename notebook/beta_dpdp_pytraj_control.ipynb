{
 "cells": [
  {
   "cell_type": "code",
   "execution_count": 60,
   "metadata": {
    "collapsed": false,
    "scrolled": true
   },
   "outputs": [
    {
     "data": {
      "text/plain": [
       "<nglview.Trajectory at 0x7f2d146320b8>"
      ]
     },
     "execution_count": 60,
     "metadata": {},
     "output_type": "execute_result"
    }
   ],
   "source": [
    "import warnings\n",
    "warnings.filterwarnings('ignore')\n",
    "import pytraj.view as view\n",
    "import pytraj\n",
    "import nglview as nv\n",
    "\n",
    "t0 = pt.datafiles.load_dpdp()[:]\n",
    "traj = view.to_nglview(t0)\n",
    "traj"
   ]
  },
  {
   "cell_type": "code",
   "execution_count": 62,
   "metadata": {
    "collapsed": true
   },
   "outputs": [],
   "source": [
    "tv = nv.TrajectoryViewer(traj)\n",
    "tv"
   ]
  },
  {
   "cell_type": "code",
   "execution_count": 63,
   "metadata": {
    "collapsed": false
   },
   "outputs": [
    {
     "data": {
      "text/plain": [
       "{'impostor': False,\n",
       " 'overview': True,\n",
       " 'quality': 'high',\n",
       " 'theme': 'dark',\n",
       " 'zoomSpeed': 4.0}"
      ]
     },
     "execution_count": 63,
     "metadata": {},
     "output_type": "execute_result"
    }
   ],
   "source": [
    "tv.representations = []\n",
    "tv._add_representation('all', 'cartoon', color='residueindex')\n",
    "tv.rotate_speed = 6.\n",
    "tv.parameters = {'zoomSpeed': 4., 'theme': 'dark', 'quality': 'high',\n",
    "                 'impostor': False,\n",
    "                 'overview': True,\n",
    "                }\n",
    "tv._add_representation('1-7', 'licorice', color='element')\n",
    "tv.parameters"
   ]
  },
  {
   "cell_type": "code",
   "execution_count": 113,
   "metadata": {
    "collapsed": true
   },
   "outputs": [],
   "source": [
    "tv.trajectory.xyz = (t0.superpose(mask='@CA')\n",
    "                     .center('origin @CA')\n",
    "                     .rotate('y 90')\n",
    "                     .translate('x 20.')\n",
    "                     .center('origin @CA')\n",
    "                     .xyz)"
   ]
  }
 ],
 "metadata": {
  "kernelspec": {
   "display_name": "Python 3",
   "language": "python",
   "name": "python3"
  },
  "language_info": {
   "codemirror_mode": {
    "name": "ipython",
    "version": 3
   },
   "file_extension": ".py",
   "mimetype": "text/x-python",
   "name": "python",
   "nbconvert_exporter": "python",
   "pygments_lexer": "ipython3",
   "version": "3.4.3"
  }
 },
 "nbformat": 4,
 "nbformat_minor": 0
}
