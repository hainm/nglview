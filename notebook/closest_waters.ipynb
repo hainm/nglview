{
 "cells": [
  {
   "cell_type": "code",
   "execution_count": 10,
   "metadata": {
    "collapsed": false
   },
   "outputs": [
    {
     "data": {
      "text/plain": [
       "pytraj.Trajectory, 10 frames: \n",
       "Size: 0.000116 (GB)\n",
       "<Topology: 520 atoms, 113 residues, 101 mols, PBC with box type = ortho>\n",
       "           "
      ]
     },
     "execution_count": 10,
     "metadata": {},
     "output_type": "execute_result"
    }
   ],
   "source": [
    "import warnings\n",
    "warnings.filterwarnings('ignore')\n",
    "import pytraj as pt\n",
    "\n",
    "t0 = pt.datafiles.load_tz2_ortho()\n",
    "\n",
    "t1 = pt.closest(t0, n_solvents=100, dtype='trajectory')\n",
    "t1"
   ]
  },
  {
   "cell_type": "code",
   "execution_count": 22,
   "metadata": {
    "collapsed": false
   },
   "outputs": [],
   "source": [
    "from ipywidgets import VBox\n",
    "from traitlets import link\n",
    "\n",
    "import nglview as nv\n",
    "from pytraj import view\n",
    "\n",
    "views = (nv.TrajectoryViewer(view.to_nglview(t0)), \n",
    "         nv.TrajectoryViewer(view.to_nglview(t1)))\n",
    "link((views[0], 'frame'), (views[1], 'frame'))\n",
    "\n",
    "for view in views:\n",
    "    view.rotate_speed = 4.\n",
    "    view.parameters = {'zoomSpeed': 5.}\n",
    "    view.representations = []\n",
    "    view._add_representation('water and not hydrogen', 'ball+stick', color='red')\n",
    "    view._add_representation('not water', 'cartoon')\n",
    "    view._add_representation('not water', 'ball+stick')\n",
    "\n",
    "VBox(views)"
   ]
  }
 ],
 "metadata": {
  "kernelspec": {
   "display_name": "Python 3",
   "language": "python",
   "name": "python3"
  },
  "language_info": {
   "codemirror_mode": {
    "name": "ipython",
    "version": 3
   },
   "file_extension": ".py",
   "mimetype": "text/x-python",
   "name": "python",
   "nbconvert_exporter": "python",
   "pygments_lexer": "ipython3",
   "version": "3.4.3"
  }
 },
 "nbformat": 4,
 "nbformat_minor": 0
}
