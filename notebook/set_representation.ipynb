{
 "cells": [
  {
   "cell_type": "code",
   "execution_count": null,
   "metadata": {
    "collapsed": false
   },
   "outputs": [],
   "source": [
    "import pytraj as pt\n",
    "\n",
    "traj = pt.fetch_pdb('1l2y')"
   ]
  },
  {
   "cell_type": "code",
   "execution_count": null,
   "metadata": {
    "collapsed": true
   },
   "outputs": [],
   "source": [
    "rep = [{'params': {'aspectRatio': 2.0, 'sele': 'not hydrogen'},\n",
    "  'type': 'ball+stick'},\n",
    " {'params': {'sele': '*'}, 'type': 'cartoon'},\n",
    " {'params': {'sele': 'not hydrogen'}, 'type': 'ball+stick'},\n",
    " {'params': {'sele': 'not hydrogen'}, 'type': 'cartoon'}]"
   ]
  },
  {
   "cell_type": "code",
   "execution_count": null,
   "metadata": {
    "collapsed": false,
    "scrolled": false
   },
   "outputs": [],
   "source": [
    "import nglview as nv\n",
    "from pytraj import view\n",
    "from ipywidgets import *\n",
    "from traitlets import link\n",
    "\n",
    "text = IntText(description='JumpTo')\n",
    "\n",
    "# ntraj = view.to_nglview(traj, parmfile=traj.top.filename)\n",
    "ntraj = view.to_nglview(traj)\n",
    "tv = nv.TrajectoryViewer(ntraj, representations=rep)\n",
    "\n",
    "link((text, 'value'), (tv, 'frame'))\n",
    "VBox((tv, text))"
   ]
  },
  {
   "cell_type": "code",
   "execution_count": null,
   "metadata": {
    "collapsed": false,
    "scrolled": false
   },
   "outputs": [],
   "source": [
    "# uncomment to update new representation\n",
    "# tv.representations = []\n",
    "# tv._add_representation('not hydrogen', type_='ball+stick', aspectRatio=2.)\n",
    "# tv._add_representation('*', type_='cartoon')\n",
    "# # selection = 'not hydrogen and not water'\n",
    "# selection = 'not hydrogen'\n",
    "# tv._add_representation(selection, type_='ball+stick')\n",
    "# tv._add_representation(selection, type_='cartoon')\n",
    "\n",
    "# tv.representations"
   ]
  }
 ],
 "metadata": {
  "kernelspec": {
   "display_name": "Python 3",
   "language": "python",
   "name": "python3"
  },
  "language_info": {
   "codemirror_mode": {
    "name": "ipython",
    "version": 3
   },
   "file_extension": ".py",
   "mimetype": "text/x-python",
   "name": "python",
   "nbconvert_exporter": "python",
   "pygments_lexer": "ipython3",
   "version": "3.4.3"
  }
 },
 "nbformat": 4,
 "nbformat_minor": 0
}
