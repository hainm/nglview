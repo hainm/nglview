{
 "cells": [
  {
   "cell_type": "code",
   "execution_count": 1,
   "metadata": {
    "collapsed": false
   },
   "outputs": [],
   "source": [
    "import pytraj as pt\n",
    "\n",
    "traj = pt.fetch_pdb('1l2y')"
   ]
  },
  {
   "cell_type": "code",
   "execution_count": 2,
   "metadata": {
    "collapsed": false,
    "scrolled": false
   },
   "outputs": [
    {
     "name": "stdout",
     "output_type": "stream",
     "text": [
      "/tmp/tmppdb.pdb\n"
     ]
    }
   ],
   "source": [
    "import nglview as nv\n",
    "from pytraj import view\n",
    "\n",
    "print(traj.top.filename)\n",
    "# ntraj = view.to_nglview(traj, parmfile=traj.top.filename)\n",
    "ntraj = view.to_nglview(traj)\n",
    "tv = nv.TrajectoryViewer(ntraj)\n",
    "tv"
   ]
  },
  {
   "cell_type": "code",
   "execution_count": 3,
   "metadata": {
    "collapsed": false,
    "scrolled": false
   },
   "outputs": [
    {
     "data": {
      "text/plain": [
       "[{'params': {'aspectRatio': 2.0, 'sele': 'not hydrogen'},\n",
       "  'type': 'ball+stick'},\n",
       " {'params': {'sele': '*'}, 'type': 'cartoon'},\n",
       " {'params': {'sele': 'not hydrogen', 'wireframe': 20.0}, 'type': 'ball+stick'},\n",
       " {'params': {'sele': 'not hydrogen', 'wireframe': 20.0}, 'type': 'point'}]"
      ]
     },
     "execution_count": 3,
     "metadata": {},
     "output_type": "execute_result"
    }
   ],
   "source": [
    "tv.representations = []\n",
    "tv._add_representation('not hydrogen', type_='ball+stick', aspectRatio=2.)\n",
    "tv._add_representation('*', type_='cartoon')\n",
    "# selection = 'not hydrogen and not water'\n",
    "selection = 'not hydrogen'\n",
    "tv._add_representation(selection, type_='ball+stick', wireframe=20.)\n",
    "tv._add_representation(selection, type_='point', wireframe=20.)\n",
    "tv.representations"
   ]
  }
 ],
 "metadata": {
  "kernelspec": {
   "display_name": "Python 3",
   "language": "python",
   "name": "python3"
  },
  "language_info": {
   "codemirror_mode": {
    "name": "ipython",
    "version": 3
   },
   "file_extension": ".py",
   "mimetype": "text/x-python",
   "name": "python",
   "nbconvert_exporter": "python",
   "pygments_lexer": "ipython3",
   "version": "3.4.3"
  }
 },
 "nbformat": 4,
 "nbformat_minor": 0
}
