{
 "cells": [
  {
   "cell_type": "code",
   "execution_count": 9,
   "metadata": {
    "collapsed": false,
    "scrolled": true
   },
   "outputs": [
    {
     "data": {
      "text/plain": [
       "<nglview.Trajectory at 0x7fc6117c4e10>"
      ]
     },
     "execution_count": 9,
     "metadata": {},
     "output_type": "execute_result"
    }
   ],
   "source": [
    "import warnings\n",
    "warnings.filterwarnings('ignore')\n",
    "import pytraj.view as view\n",
    "import pytraj\n",
    "import nglview as nv\n",
    "\n",
    "t0 = pt.datafiles.load_dpdp()[:].superpose('@CA')\n",
    "traj = view.to_nglview(t0)\n",
    "traj"
   ]
  },
  {
   "cell_type": "code",
   "execution_count": 12,
   "metadata": {
    "collapsed": false
   },
   "outputs": [],
   "source": [
    "tv = nv.TrajectoryViewer(traj)\n",
    "tv"
   ]
  },
  {
   "cell_type": "code",
   "execution_count": 13,
   "metadata": {
    "collapsed": false
   },
   "outputs": [],
   "source": [
    "tv.representations = []\n",
    "tv._add_representation('all', 'cartoon', color='residueindex')\n",
    "tv.rotate_speed = 6.\n",
    "tv.parameters = {'zoomSpeed': 4., 'theme': 'dark', 'quality': 'high',\n",
    "                 'impostor': False,\n",
    "                 'overview': True,\n",
    "                }\n",
    "tv._add_representation('1-7', 'licorice', color='element')"
   ]
  }
 ],
 "metadata": {
  "kernelspec": {
   "display_name": "Python 3",
   "language": "python",
   "name": "python3"
  },
  "language_info": {
   "codemirror_mode": {
    "name": "ipython",
    "version": 3
   },
   "file_extension": ".py",
   "mimetype": "text/x-python",
   "name": "python",
   "nbconvert_exporter": "python",
   "pygments_lexer": "ipython3",
   "version": "3.4.3"
  }
 },
 "nbformat": 4,
 "nbformat_minor": 0
}
